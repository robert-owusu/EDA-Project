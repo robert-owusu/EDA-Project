{
 "cells": [
  {
   "cell_type": "markdown",
   "id": "1439c915",
   "metadata": {},
   "source": [
    "## Importing Libraries"
   ]
  },
  {
   "cell_type": "code",
   "execution_count": 65,
   "id": "8236f083",
   "metadata": {},
   "outputs": [],
   "source": [
    "import pandas as pd\n",
    "import matplotlib.pyplot as plt\n",
    "import numpy as np\n",
    "import wordcloud as wd\n",
    "import seaborn as sns\n",
    "sns.set()\n",
    "import PIL as Pl\n",
    "from collections import Counter"
   ]
  },
  {
   "cell_type": "code",
   "execution_count": null,
   "id": "aeb57d5a",
   "metadata": {},
   "outputs": [],
   "source": []
  },
  {
   "cell_type": "markdown",
   "id": "4e3f0b9b",
   "metadata": {},
   "source": [
    "## Importing Source File"
   ]
  },
  {
   "cell_type": "code",
   "execution_count": 123,
   "id": "f7a63b80",
   "metadata": {
    "scrolled": true
   },
   "outputs": [
    {
     "data": {
      "text/html": [
       "<div>\n",
       "<style scoped>\n",
       "    .dataframe tbody tr th:only-of-type {\n",
       "        vertical-align: middle;\n",
       "    }\n",
       "\n",
       "    .dataframe tbody tr th {\n",
       "        vertical-align: top;\n",
       "    }\n",
       "\n",
       "    .dataframe thead th {\n",
       "        text-align: right;\n",
       "    }\n",
       "</style>\n",
       "<table border=\"1\" class=\"dataframe\">\n",
       "  <thead>\n",
       "    <tr style=\"text-align: right;\">\n",
       "      <th></th>\n",
       "      <th>Name</th>\n",
       "      <th>Platform</th>\n",
       "      <th>Year</th>\n",
       "      <th>Genre</th>\n",
       "      <th>Publisher</th>\n",
       "      <th>NA_Sales</th>\n",
       "      <th>EU_Sales</th>\n",
       "      <th>JP_Sales</th>\n",
       "      <th>Other_Sales</th>\n",
       "      <th>Global_Sales</th>\n",
       "    </tr>\n",
       "    <tr>\n",
       "      <th>Rank</th>\n",
       "      <th></th>\n",
       "      <th></th>\n",
       "      <th></th>\n",
       "      <th></th>\n",
       "      <th></th>\n",
       "      <th></th>\n",
       "      <th></th>\n",
       "      <th></th>\n",
       "      <th></th>\n",
       "      <th></th>\n",
       "    </tr>\n",
       "  </thead>\n",
       "  <tbody>\n",
       "    <tr>\n",
       "      <th>1</th>\n",
       "      <td>Wii Sports</td>\n",
       "      <td>Wii</td>\n",
       "      <td>2006.0</td>\n",
       "      <td>Sports</td>\n",
       "      <td>Nintendo</td>\n",
       "      <td>41.49</td>\n",
       "      <td>29.02</td>\n",
       "      <td>3.77</td>\n",
       "      <td>8.46</td>\n",
       "      <td>82.74</td>\n",
       "    </tr>\n",
       "    <tr>\n",
       "      <th>2</th>\n",
       "      <td>Super Mario Bros.</td>\n",
       "      <td>NES</td>\n",
       "      <td>1985.0</td>\n",
       "      <td>Platform</td>\n",
       "      <td>Nintendo</td>\n",
       "      <td>29.08</td>\n",
       "      <td>3.58</td>\n",
       "      <td>6.81</td>\n",
       "      <td>0.77</td>\n",
       "      <td>40.24</td>\n",
       "    </tr>\n",
       "    <tr>\n",
       "      <th>3</th>\n",
       "      <td>Mario Kart Wii</td>\n",
       "      <td>Wii</td>\n",
       "      <td>2008.0</td>\n",
       "      <td>Racing</td>\n",
       "      <td>Nintendo</td>\n",
       "      <td>15.85</td>\n",
       "      <td>12.88</td>\n",
       "      <td>3.79</td>\n",
       "      <td>3.31</td>\n",
       "      <td>35.82</td>\n",
       "    </tr>\n",
       "    <tr>\n",
       "      <th>4</th>\n",
       "      <td>Wii Sports Resort</td>\n",
       "      <td>Wii</td>\n",
       "      <td>2009.0</td>\n",
       "      <td>Sports</td>\n",
       "      <td>Nintendo</td>\n",
       "      <td>15.75</td>\n",
       "      <td>11.01</td>\n",
       "      <td>3.28</td>\n",
       "      <td>2.96</td>\n",
       "      <td>33.00</td>\n",
       "    </tr>\n",
       "    <tr>\n",
       "      <th>5</th>\n",
       "      <td>Pokemon Red/Pokemon Blue</td>\n",
       "      <td>GB</td>\n",
       "      <td>1996.0</td>\n",
       "      <td>Role-Playing</td>\n",
       "      <td>Nintendo</td>\n",
       "      <td>11.27</td>\n",
       "      <td>8.89</td>\n",
       "      <td>10.22</td>\n",
       "      <td>1.00</td>\n",
       "      <td>31.37</td>\n",
       "    </tr>\n",
       "    <tr>\n",
       "      <th>...</th>\n",
       "      <td>...</td>\n",
       "      <td>...</td>\n",
       "      <td>...</td>\n",
       "      <td>...</td>\n",
       "      <td>...</td>\n",
       "      <td>...</td>\n",
       "      <td>...</td>\n",
       "      <td>...</td>\n",
       "      <td>...</td>\n",
       "      <td>...</td>\n",
       "    </tr>\n",
       "    <tr>\n",
       "      <th>16596</th>\n",
       "      <td>Woody Woodpecker in Crazy Castle 5</td>\n",
       "      <td>GBA</td>\n",
       "      <td>2002.0</td>\n",
       "      <td>Platform</td>\n",
       "      <td>Kemco</td>\n",
       "      <td>0.01</td>\n",
       "      <td>0.00</td>\n",
       "      <td>0.00</td>\n",
       "      <td>0.00</td>\n",
       "      <td>0.01</td>\n",
       "    </tr>\n",
       "    <tr>\n",
       "      <th>16597</th>\n",
       "      <td>Men in Black II: Alien Escape</td>\n",
       "      <td>GC</td>\n",
       "      <td>2003.0</td>\n",
       "      <td>Shooter</td>\n",
       "      <td>Infogrames</td>\n",
       "      <td>0.01</td>\n",
       "      <td>0.00</td>\n",
       "      <td>0.00</td>\n",
       "      <td>0.00</td>\n",
       "      <td>0.01</td>\n",
       "    </tr>\n",
       "    <tr>\n",
       "      <th>16598</th>\n",
       "      <td>SCORE International Baja 1000: The Official Game</td>\n",
       "      <td>PS2</td>\n",
       "      <td>2008.0</td>\n",
       "      <td>Racing</td>\n",
       "      <td>Activision</td>\n",
       "      <td>0.00</td>\n",
       "      <td>0.00</td>\n",
       "      <td>0.00</td>\n",
       "      <td>0.00</td>\n",
       "      <td>0.01</td>\n",
       "    </tr>\n",
       "    <tr>\n",
       "      <th>16599</th>\n",
       "      <td>Know How 2</td>\n",
       "      <td>DS</td>\n",
       "      <td>2010.0</td>\n",
       "      <td>Puzzle</td>\n",
       "      <td>7G//AMES</td>\n",
       "      <td>0.00</td>\n",
       "      <td>0.01</td>\n",
       "      <td>0.00</td>\n",
       "      <td>0.00</td>\n",
       "      <td>0.01</td>\n",
       "    </tr>\n",
       "    <tr>\n",
       "      <th>16600</th>\n",
       "      <td>Spirits &amp; Spells</td>\n",
       "      <td>GBA</td>\n",
       "      <td>2003.0</td>\n",
       "      <td>Platform</td>\n",
       "      <td>Wanadoo</td>\n",
       "      <td>0.01</td>\n",
       "      <td>0.00</td>\n",
       "      <td>0.00</td>\n",
       "      <td>0.00</td>\n",
       "      <td>0.01</td>\n",
       "    </tr>\n",
       "  </tbody>\n",
       "</table>\n",
       "<p>16598 rows × 10 columns</p>\n",
       "</div>"
      ],
      "text/plain": [
       "                                                   Name Platform    Year  \\\n",
       "Rank                                                                       \n",
       "1                                            Wii Sports      Wii  2006.0   \n",
       "2                                     Super Mario Bros.      NES  1985.0   \n",
       "3                                        Mario Kart Wii      Wii  2008.0   \n",
       "4                                     Wii Sports Resort      Wii  2009.0   \n",
       "5                              Pokemon Red/Pokemon Blue       GB  1996.0   \n",
       "...                                                 ...      ...     ...   \n",
       "16596                Woody Woodpecker in Crazy Castle 5      GBA  2002.0   \n",
       "16597                     Men in Black II: Alien Escape       GC  2003.0   \n",
       "16598  SCORE International Baja 1000: The Official Game      PS2  2008.0   \n",
       "16599                                        Know How 2       DS  2010.0   \n",
       "16600                                  Spirits & Spells      GBA  2003.0   \n",
       "\n",
       "              Genre   Publisher  NA_Sales  EU_Sales  JP_Sales  Other_Sales  \\\n",
       "Rank                                                                         \n",
       "1            Sports    Nintendo     41.49     29.02      3.77         8.46   \n",
       "2          Platform    Nintendo     29.08      3.58      6.81         0.77   \n",
       "3            Racing    Nintendo     15.85     12.88      3.79         3.31   \n",
       "4            Sports    Nintendo     15.75     11.01      3.28         2.96   \n",
       "5      Role-Playing    Nintendo     11.27      8.89     10.22         1.00   \n",
       "...             ...         ...       ...       ...       ...          ...   \n",
       "16596      Platform       Kemco      0.01      0.00      0.00         0.00   \n",
       "16597       Shooter  Infogrames      0.01      0.00      0.00         0.00   \n",
       "16598        Racing  Activision      0.00      0.00      0.00         0.00   \n",
       "16599        Puzzle    7G//AMES      0.00      0.01      0.00         0.00   \n",
       "16600      Platform     Wanadoo      0.01      0.00      0.00         0.00   \n",
       "\n",
       "       Global_Sales  \n",
       "Rank                 \n",
       "1             82.74  \n",
       "2             40.24  \n",
       "3             35.82  \n",
       "4             33.00  \n",
       "5             31.37  \n",
       "...             ...  \n",
       "16596          0.01  \n",
       "16597          0.01  \n",
       "16598          0.01  \n",
       "16599          0.01  \n",
       "16600          0.01  \n",
       "\n",
       "[16598 rows x 10 columns]"
      ]
     },
     "execution_count": 123,
     "metadata": {},
     "output_type": "execute_result"
    }
   ],
   "source": [
    "Source_File=pd.read_excel('vgsales.xlsx', index_col=0)\n",
    "Source_File"
   ]
  },
  {
   "cell_type": "code",
   "execution_count": null,
   "id": "80ee742b",
   "metadata": {},
   "outputs": [],
   "source": []
  },
  {
   "cell_type": "markdown",
   "id": "0c2295bd",
   "metadata": {},
   "source": [
    "## Cleaning the Data"
   ]
  },
  {
   "cell_type": "code",
   "execution_count": 67,
   "id": "61a98c0d",
   "metadata": {},
   "outputs": [
    {
     "data": {
      "text/plain": [
       "Rank\n",
       "1        False\n",
       "2        False\n",
       "3        False\n",
       "4        False\n",
       "5        False\n",
       "         ...  \n",
       "16596    False\n",
       "16597    False\n",
       "16598    False\n",
       "16599    False\n",
       "16600    False\n",
       "Length: 16598, dtype: bool"
      ]
     },
     "execution_count": 67,
     "metadata": {},
     "output_type": "execute_result"
    }
   ],
   "source": [
    "#### Detecting Duplicate\n",
    "Source_File_Dup=Source_File.duplicated()\n",
    "Source_File_Dup"
   ]
  },
  {
   "cell_type": "code",
   "execution_count": 69,
   "id": "869fd846",
   "metadata": {},
   "outputs": [
    {
     "data": {
      "text/html": [
       "<div>\n",
       "<style scoped>\n",
       "    .dataframe tbody tr th:only-of-type {\n",
       "        vertical-align: middle;\n",
       "    }\n",
       "\n",
       "    .dataframe tbody tr th {\n",
       "        vertical-align: top;\n",
       "    }\n",
       "\n",
       "    .dataframe thead th {\n",
       "        text-align: right;\n",
       "    }\n",
       "</style>\n",
       "<table border=\"1\" class=\"dataframe\">\n",
       "  <thead>\n",
       "    <tr style=\"text-align: right;\">\n",
       "      <th></th>\n",
       "      <th>Name</th>\n",
       "      <th>Platform</th>\n",
       "      <th>Year</th>\n",
       "      <th>Genre</th>\n",
       "      <th>Publisher</th>\n",
       "      <th>NA_Sales</th>\n",
       "      <th>EU_Sales</th>\n",
       "      <th>JP_Sales</th>\n",
       "      <th>Other_Sales</th>\n",
       "      <th>Global_Sales</th>\n",
       "    </tr>\n",
       "    <tr>\n",
       "      <th>Rank</th>\n",
       "      <th></th>\n",
       "      <th></th>\n",
       "      <th></th>\n",
       "      <th></th>\n",
       "      <th></th>\n",
       "      <th></th>\n",
       "      <th></th>\n",
       "      <th></th>\n",
       "      <th></th>\n",
       "      <th></th>\n",
       "    </tr>\n",
       "  </thead>\n",
       "  <tbody>\n",
       "    <tr>\n",
       "      <th>1</th>\n",
       "      <td>Wii Sports</td>\n",
       "      <td>Wii</td>\n",
       "      <td>2006.0</td>\n",
       "      <td>Sports</td>\n",
       "      <td>Nintendo</td>\n",
       "      <td>41.49</td>\n",
       "      <td>29.02</td>\n",
       "      <td>3.77</td>\n",
       "      <td>8.46</td>\n",
       "      <td>82.74</td>\n",
       "    </tr>\n",
       "    <tr>\n",
       "      <th>2</th>\n",
       "      <td>Super Mario Bros.</td>\n",
       "      <td>NES</td>\n",
       "      <td>1985.0</td>\n",
       "      <td>Platform</td>\n",
       "      <td>Nintendo</td>\n",
       "      <td>29.08</td>\n",
       "      <td>3.58</td>\n",
       "      <td>6.81</td>\n",
       "      <td>0.77</td>\n",
       "      <td>40.24</td>\n",
       "    </tr>\n",
       "    <tr>\n",
       "      <th>3</th>\n",
       "      <td>Mario Kart Wii</td>\n",
       "      <td>Wii</td>\n",
       "      <td>2008.0</td>\n",
       "      <td>Racing</td>\n",
       "      <td>Nintendo</td>\n",
       "      <td>15.85</td>\n",
       "      <td>12.88</td>\n",
       "      <td>3.79</td>\n",
       "      <td>3.31</td>\n",
       "      <td>35.82</td>\n",
       "    </tr>\n",
       "    <tr>\n",
       "      <th>4</th>\n",
       "      <td>Wii Sports Resort</td>\n",
       "      <td>Wii</td>\n",
       "      <td>2009.0</td>\n",
       "      <td>Sports</td>\n",
       "      <td>Nintendo</td>\n",
       "      <td>15.75</td>\n",
       "      <td>11.01</td>\n",
       "      <td>3.28</td>\n",
       "      <td>2.96</td>\n",
       "      <td>33.00</td>\n",
       "    </tr>\n",
       "    <tr>\n",
       "      <th>5</th>\n",
       "      <td>Pokemon Red/Pokemon Blue</td>\n",
       "      <td>GB</td>\n",
       "      <td>1996.0</td>\n",
       "      <td>Role-Playing</td>\n",
       "      <td>Nintendo</td>\n",
       "      <td>11.27</td>\n",
       "      <td>8.89</td>\n",
       "      <td>10.22</td>\n",
       "      <td>1.00</td>\n",
       "      <td>31.37</td>\n",
       "    </tr>\n",
       "    <tr>\n",
       "      <th>...</th>\n",
       "      <td>...</td>\n",
       "      <td>...</td>\n",
       "      <td>...</td>\n",
       "      <td>...</td>\n",
       "      <td>...</td>\n",
       "      <td>...</td>\n",
       "      <td>...</td>\n",
       "      <td>...</td>\n",
       "      <td>...</td>\n",
       "      <td>...</td>\n",
       "    </tr>\n",
       "    <tr>\n",
       "      <th>16596</th>\n",
       "      <td>Woody Woodpecker in Crazy Castle 5</td>\n",
       "      <td>GBA</td>\n",
       "      <td>2002.0</td>\n",
       "      <td>Platform</td>\n",
       "      <td>Kemco</td>\n",
       "      <td>0.01</td>\n",
       "      <td>0.00</td>\n",
       "      <td>0.00</td>\n",
       "      <td>0.00</td>\n",
       "      <td>0.01</td>\n",
       "    </tr>\n",
       "    <tr>\n",
       "      <th>16597</th>\n",
       "      <td>Men in Black II: Alien Escape</td>\n",
       "      <td>GC</td>\n",
       "      <td>2003.0</td>\n",
       "      <td>Shooter</td>\n",
       "      <td>Infogrames</td>\n",
       "      <td>0.01</td>\n",
       "      <td>0.00</td>\n",
       "      <td>0.00</td>\n",
       "      <td>0.00</td>\n",
       "      <td>0.01</td>\n",
       "    </tr>\n",
       "    <tr>\n",
       "      <th>16598</th>\n",
       "      <td>SCORE International Baja 1000: The Official Game</td>\n",
       "      <td>PS2</td>\n",
       "      <td>2008.0</td>\n",
       "      <td>Racing</td>\n",
       "      <td>Activision</td>\n",
       "      <td>0.00</td>\n",
       "      <td>0.00</td>\n",
       "      <td>0.00</td>\n",
       "      <td>0.00</td>\n",
       "      <td>0.01</td>\n",
       "    </tr>\n",
       "    <tr>\n",
       "      <th>16599</th>\n",
       "      <td>Know How 2</td>\n",
       "      <td>DS</td>\n",
       "      <td>2010.0</td>\n",
       "      <td>Puzzle</td>\n",
       "      <td>7G//AMES</td>\n",
       "      <td>0.00</td>\n",
       "      <td>0.01</td>\n",
       "      <td>0.00</td>\n",
       "      <td>0.00</td>\n",
       "      <td>0.01</td>\n",
       "    </tr>\n",
       "    <tr>\n",
       "      <th>16600</th>\n",
       "      <td>Spirits &amp; Spells</td>\n",
       "      <td>GBA</td>\n",
       "      <td>2003.0</td>\n",
       "      <td>Platform</td>\n",
       "      <td>Wanadoo</td>\n",
       "      <td>0.01</td>\n",
       "      <td>0.00</td>\n",
       "      <td>0.00</td>\n",
       "      <td>0.00</td>\n",
       "      <td>0.01</td>\n",
       "    </tr>\n",
       "  </tbody>\n",
       "</table>\n",
       "<p>16598 rows × 10 columns</p>\n",
       "</div>"
      ],
      "text/plain": [
       "                                                   Name Platform    Year  \\\n",
       "Rank                                                                       \n",
       "1                                            Wii Sports      Wii  2006.0   \n",
       "2                                     Super Mario Bros.      NES  1985.0   \n",
       "3                                        Mario Kart Wii      Wii  2008.0   \n",
       "4                                     Wii Sports Resort      Wii  2009.0   \n",
       "5                              Pokemon Red/Pokemon Blue       GB  1996.0   \n",
       "...                                                 ...      ...     ...   \n",
       "16596                Woody Woodpecker in Crazy Castle 5      GBA  2002.0   \n",
       "16597                     Men in Black II: Alien Escape       GC  2003.0   \n",
       "16598  SCORE International Baja 1000: The Official Game      PS2  2008.0   \n",
       "16599                                        Know How 2       DS  2010.0   \n",
       "16600                                  Spirits & Spells      GBA  2003.0   \n",
       "\n",
       "              Genre   Publisher  NA_Sales  EU_Sales  JP_Sales  Other_Sales  \\\n",
       "Rank                                                                         \n",
       "1            Sports    Nintendo     41.49     29.02      3.77         8.46   \n",
       "2          Platform    Nintendo     29.08      3.58      6.81         0.77   \n",
       "3            Racing    Nintendo     15.85     12.88      3.79         3.31   \n",
       "4            Sports    Nintendo     15.75     11.01      3.28         2.96   \n",
       "5      Role-Playing    Nintendo     11.27      8.89     10.22         1.00   \n",
       "...             ...         ...       ...       ...       ...          ...   \n",
       "16596      Platform       Kemco      0.01      0.00      0.00         0.00   \n",
       "16597       Shooter  Infogrames      0.01      0.00      0.00         0.00   \n",
       "16598        Racing  Activision      0.00      0.00      0.00         0.00   \n",
       "16599        Puzzle    7G//AMES      0.00      0.01      0.00         0.00   \n",
       "16600      Platform     Wanadoo      0.01      0.00      0.00         0.00   \n",
       "\n",
       "       Global_Sales  \n",
       "Rank                 \n",
       "1             82.74  \n",
       "2             40.24  \n",
       "3             35.82  \n",
       "4             33.00  \n",
       "5             31.37  \n",
       "...             ...  \n",
       "16596          0.01  \n",
       "16597          0.01  \n",
       "16598          0.01  \n",
       "16599          0.01  \n",
       "16600          0.01  \n",
       "\n",
       "[16598 rows x 10 columns]"
      ]
     },
     "execution_count": 69,
     "metadata": {},
     "output_type": "execute_result"
    }
   ],
   "source": [
    "#### Changing NAN values to 0\n",
    "Source_File1=Source_File.fillna(0)\n",
    "Source_File1"
   ]
  },
  {
   "cell_type": "code",
   "execution_count": null,
   "id": "0ed32aee",
   "metadata": {},
   "outputs": [],
   "source": []
  },
  {
   "cell_type": "code",
   "execution_count": null,
   "id": "85c288eb",
   "metadata": {},
   "outputs": [],
   "source": []
  },
  {
   "cell_type": "markdown",
   "id": "065ab667",
   "metadata": {},
   "source": [
    "## Removing_0_Years"
   ]
  },
  {
   "cell_type": "code",
   "execution_count": 70,
   "id": "b12e9c6d",
   "metadata": {},
   "outputs": [
    {
     "data": {
      "text/html": [
       "<div>\n",
       "<style scoped>\n",
       "    .dataframe tbody tr th:only-of-type {\n",
       "        vertical-align: middle;\n",
       "    }\n",
       "\n",
       "    .dataframe tbody tr th {\n",
       "        vertical-align: top;\n",
       "    }\n",
       "\n",
       "    .dataframe thead th {\n",
       "        text-align: right;\n",
       "    }\n",
       "</style>\n",
       "<table border=\"1\" class=\"dataframe\">\n",
       "  <thead>\n",
       "    <tr style=\"text-align: right;\">\n",
       "      <th></th>\n",
       "      <th>Name</th>\n",
       "      <th>Platform</th>\n",
       "      <th>Year</th>\n",
       "      <th>Genre</th>\n",
       "      <th>Publisher</th>\n",
       "      <th>NA_Sales</th>\n",
       "      <th>EU_Sales</th>\n",
       "      <th>JP_Sales</th>\n",
       "      <th>Other_Sales</th>\n",
       "      <th>Global_Sales</th>\n",
       "    </tr>\n",
       "    <tr>\n",
       "      <th>Rank</th>\n",
       "      <th></th>\n",
       "      <th></th>\n",
       "      <th></th>\n",
       "      <th></th>\n",
       "      <th></th>\n",
       "      <th></th>\n",
       "      <th></th>\n",
       "      <th></th>\n",
       "      <th></th>\n",
       "      <th></th>\n",
       "    </tr>\n",
       "  </thead>\n",
       "  <tbody>\n",
       "    <tr>\n",
       "      <th>1</th>\n",
       "      <td>Wii Sports</td>\n",
       "      <td>Wii</td>\n",
       "      <td>2006.0</td>\n",
       "      <td>Sports</td>\n",
       "      <td>Nintendo</td>\n",
       "      <td>41.49</td>\n",
       "      <td>29.02</td>\n",
       "      <td>3.77</td>\n",
       "      <td>8.46</td>\n",
       "      <td>82.74</td>\n",
       "    </tr>\n",
       "    <tr>\n",
       "      <th>2</th>\n",
       "      <td>Super Mario Bros.</td>\n",
       "      <td>NES</td>\n",
       "      <td>1985.0</td>\n",
       "      <td>Platform</td>\n",
       "      <td>Nintendo</td>\n",
       "      <td>29.08</td>\n",
       "      <td>3.58</td>\n",
       "      <td>6.81</td>\n",
       "      <td>0.77</td>\n",
       "      <td>40.24</td>\n",
       "    </tr>\n",
       "    <tr>\n",
       "      <th>3</th>\n",
       "      <td>Mario Kart Wii</td>\n",
       "      <td>Wii</td>\n",
       "      <td>2008.0</td>\n",
       "      <td>Racing</td>\n",
       "      <td>Nintendo</td>\n",
       "      <td>15.85</td>\n",
       "      <td>12.88</td>\n",
       "      <td>3.79</td>\n",
       "      <td>3.31</td>\n",
       "      <td>35.82</td>\n",
       "    </tr>\n",
       "    <tr>\n",
       "      <th>4</th>\n",
       "      <td>Wii Sports Resort</td>\n",
       "      <td>Wii</td>\n",
       "      <td>2009.0</td>\n",
       "      <td>Sports</td>\n",
       "      <td>Nintendo</td>\n",
       "      <td>15.75</td>\n",
       "      <td>11.01</td>\n",
       "      <td>3.28</td>\n",
       "      <td>2.96</td>\n",
       "      <td>33.00</td>\n",
       "    </tr>\n",
       "    <tr>\n",
       "      <th>5</th>\n",
       "      <td>Pokemon Red/Pokemon Blue</td>\n",
       "      <td>GB</td>\n",
       "      <td>1996.0</td>\n",
       "      <td>Role-Playing</td>\n",
       "      <td>Nintendo</td>\n",
       "      <td>11.27</td>\n",
       "      <td>8.89</td>\n",
       "      <td>10.22</td>\n",
       "      <td>1.00</td>\n",
       "      <td>31.37</td>\n",
       "    </tr>\n",
       "    <tr>\n",
       "      <th>...</th>\n",
       "      <td>...</td>\n",
       "      <td>...</td>\n",
       "      <td>...</td>\n",
       "      <td>...</td>\n",
       "      <td>...</td>\n",
       "      <td>...</td>\n",
       "      <td>...</td>\n",
       "      <td>...</td>\n",
       "      <td>...</td>\n",
       "      <td>...</td>\n",
       "    </tr>\n",
       "    <tr>\n",
       "      <th>16596</th>\n",
       "      <td>Woody Woodpecker in Crazy Castle 5</td>\n",
       "      <td>GBA</td>\n",
       "      <td>2002.0</td>\n",
       "      <td>Platform</td>\n",
       "      <td>Kemco</td>\n",
       "      <td>0.01</td>\n",
       "      <td>0.00</td>\n",
       "      <td>0.00</td>\n",
       "      <td>0.00</td>\n",
       "      <td>0.01</td>\n",
       "    </tr>\n",
       "    <tr>\n",
       "      <th>16597</th>\n",
       "      <td>Men in Black II: Alien Escape</td>\n",
       "      <td>GC</td>\n",
       "      <td>2003.0</td>\n",
       "      <td>Shooter</td>\n",
       "      <td>Infogrames</td>\n",
       "      <td>0.01</td>\n",
       "      <td>0.00</td>\n",
       "      <td>0.00</td>\n",
       "      <td>0.00</td>\n",
       "      <td>0.01</td>\n",
       "    </tr>\n",
       "    <tr>\n",
       "      <th>16598</th>\n",
       "      <td>SCORE International Baja 1000: The Official Game</td>\n",
       "      <td>PS2</td>\n",
       "      <td>2008.0</td>\n",
       "      <td>Racing</td>\n",
       "      <td>Activision</td>\n",
       "      <td>0.00</td>\n",
       "      <td>0.00</td>\n",
       "      <td>0.00</td>\n",
       "      <td>0.00</td>\n",
       "      <td>0.01</td>\n",
       "    </tr>\n",
       "    <tr>\n",
       "      <th>16599</th>\n",
       "      <td>Know How 2</td>\n",
       "      <td>DS</td>\n",
       "      <td>2010.0</td>\n",
       "      <td>Puzzle</td>\n",
       "      <td>7G//AMES</td>\n",
       "      <td>0.00</td>\n",
       "      <td>0.01</td>\n",
       "      <td>0.00</td>\n",
       "      <td>0.00</td>\n",
       "      <td>0.01</td>\n",
       "    </tr>\n",
       "    <tr>\n",
       "      <th>16600</th>\n",
       "      <td>Spirits &amp; Spells</td>\n",
       "      <td>GBA</td>\n",
       "      <td>2003.0</td>\n",
       "      <td>Platform</td>\n",
       "      <td>Wanadoo</td>\n",
       "      <td>0.01</td>\n",
       "      <td>0.00</td>\n",
       "      <td>0.00</td>\n",
       "      <td>0.00</td>\n",
       "      <td>0.01</td>\n",
       "    </tr>\n",
       "  </tbody>\n",
       "</table>\n",
       "<p>16327 rows × 10 columns</p>\n",
       "</div>"
      ],
      "text/plain": [
       "                                                   Name Platform    Year  \\\n",
       "Rank                                                                       \n",
       "1                                            Wii Sports      Wii  2006.0   \n",
       "2                                     Super Mario Bros.      NES  1985.0   \n",
       "3                                        Mario Kart Wii      Wii  2008.0   \n",
       "4                                     Wii Sports Resort      Wii  2009.0   \n",
       "5                              Pokemon Red/Pokemon Blue       GB  1996.0   \n",
       "...                                                 ...      ...     ...   \n",
       "16596                Woody Woodpecker in Crazy Castle 5      GBA  2002.0   \n",
       "16597                     Men in Black II: Alien Escape       GC  2003.0   \n",
       "16598  SCORE International Baja 1000: The Official Game      PS2  2008.0   \n",
       "16599                                        Know How 2       DS  2010.0   \n",
       "16600                                  Spirits & Spells      GBA  2003.0   \n",
       "\n",
       "              Genre   Publisher  NA_Sales  EU_Sales  JP_Sales  Other_Sales  \\\n",
       "Rank                                                                         \n",
       "1            Sports    Nintendo     41.49     29.02      3.77         8.46   \n",
       "2          Platform    Nintendo     29.08      3.58      6.81         0.77   \n",
       "3            Racing    Nintendo     15.85     12.88      3.79         3.31   \n",
       "4            Sports    Nintendo     15.75     11.01      3.28         2.96   \n",
       "5      Role-Playing    Nintendo     11.27      8.89     10.22         1.00   \n",
       "...             ...         ...       ...       ...       ...          ...   \n",
       "16596      Platform       Kemco      0.01      0.00      0.00         0.00   \n",
       "16597       Shooter  Infogrames      0.01      0.00      0.00         0.00   \n",
       "16598        Racing  Activision      0.00      0.00      0.00         0.00   \n",
       "16599        Puzzle    7G//AMES      0.00      0.01      0.00         0.00   \n",
       "16600      Platform     Wanadoo      0.01      0.00      0.00         0.00   \n",
       "\n",
       "       Global_Sales  \n",
       "Rank                 \n",
       "1             82.74  \n",
       "2             40.24  \n",
       "3             35.82  \n",
       "4             33.00  \n",
       "5             31.37  \n",
       "...             ...  \n",
       "16596          0.01  \n",
       "16597          0.01  \n",
       "16598          0.01  \n",
       "16599          0.01  \n",
       "16600          0.01  \n",
       "\n",
       "[16327 rows x 10 columns]"
      ]
     },
     "execution_count": 70,
     "metadata": {},
     "output_type": "execute_result"
    }
   ],
   "source": [
    "Cond_No_0=(Source_File1['Year']!=0)\n",
    "Source_File_N0_0=Source_File1.loc[Cond_No_0]\n",
    "Source_File_N0_0"
   ]
  },
  {
   "cell_type": "code",
   "execution_count": null,
   "id": "24228314",
   "metadata": {},
   "outputs": [],
   "source": []
  },
  {
   "cell_type": "code",
   "execution_count": null,
   "id": "5ac34582",
   "metadata": {},
   "outputs": [],
   "source": []
  },
  {
   "cell_type": "markdown",
   "id": "6020b821",
   "metadata": {},
   "source": [
    "## Filtering from Year 1980 to 1999 (20th Century)"
   ]
  },
  {
   "cell_type": "code",
   "execution_count": 71,
   "id": "cab8e98f",
   "metadata": {},
   "outputs": [
    {
     "data": {
      "text/html": [
       "<div>\n",
       "<style scoped>\n",
       "    .dataframe tbody tr th:only-of-type {\n",
       "        vertical-align: middle;\n",
       "    }\n",
       "\n",
       "    .dataframe tbody tr th {\n",
       "        vertical-align: top;\n",
       "    }\n",
       "\n",
       "    .dataframe thead th {\n",
       "        text-align: right;\n",
       "    }\n",
       "</style>\n",
       "<table border=\"1\" class=\"dataframe\">\n",
       "  <thead>\n",
       "    <tr style=\"text-align: right;\">\n",
       "      <th></th>\n",
       "      <th>Name</th>\n",
       "      <th>Platform</th>\n",
       "      <th>Year</th>\n",
       "      <th>Genre</th>\n",
       "      <th>Publisher</th>\n",
       "      <th>NA_Sales</th>\n",
       "      <th>EU_Sales</th>\n",
       "      <th>JP_Sales</th>\n",
       "      <th>Other_Sales</th>\n",
       "      <th>Global_Sales</th>\n",
       "    </tr>\n",
       "    <tr>\n",
       "      <th>Rank</th>\n",
       "      <th></th>\n",
       "      <th></th>\n",
       "      <th></th>\n",
       "      <th></th>\n",
       "      <th></th>\n",
       "      <th></th>\n",
       "      <th></th>\n",
       "      <th></th>\n",
       "      <th></th>\n",
       "      <th></th>\n",
       "    </tr>\n",
       "  </thead>\n",
       "  <tbody>\n",
       "    <tr>\n",
       "      <th>5247</th>\n",
       "      <td>Boxer's Road</td>\n",
       "      <td>PS</td>\n",
       "      <td>1995.0</td>\n",
       "      <td>Fighting</td>\n",
       "      <td>New</td>\n",
       "      <td>0.00</td>\n",
       "      <td>0.00</td>\n",
       "      <td>0.33</td>\n",
       "      <td>0.02</td>\n",
       "      <td>0.36</td>\n",
       "    </tr>\n",
       "    <tr>\n",
       "      <th>4483</th>\n",
       "      <td>Neon Genesis Evangelion</td>\n",
       "      <td>SAT</td>\n",
       "      <td>1996.0</td>\n",
       "      <td>Adventure</td>\n",
       "      <td>Sega</td>\n",
       "      <td>0.00</td>\n",
       "      <td>0.00</td>\n",
       "      <td>0.44</td>\n",
       "      <td>0.00</td>\n",
       "      <td>0.44</td>\n",
       "    </tr>\n",
       "    <tr>\n",
       "      <th>7243</th>\n",
       "      <td>NHL Championship 2000</td>\n",
       "      <td>PS</td>\n",
       "      <td>1998.0</td>\n",
       "      <td>Sports</td>\n",
       "      <td>Fox Interactive</td>\n",
       "      <td>0.12</td>\n",
       "      <td>0.08</td>\n",
       "      <td>0.00</td>\n",
       "      <td>0.01</td>\n",
       "      <td>0.22</td>\n",
       "    </tr>\n",
       "    <tr>\n",
       "      <th>5291</th>\n",
       "      <td>Mega Man X3</td>\n",
       "      <td>SNES</td>\n",
       "      <td>1995.0</td>\n",
       "      <td>Action</td>\n",
       "      <td>Laguna</td>\n",
       "      <td>0.04</td>\n",
       "      <td>0.01</td>\n",
       "      <td>0.30</td>\n",
       "      <td>0.00</td>\n",
       "      <td>0.35</td>\n",
       "    </tr>\n",
       "    <tr>\n",
       "      <th>3469</th>\n",
       "      <td>International Superstar Soccer '98</td>\n",
       "      <td>N64</td>\n",
       "      <td>1998.0</td>\n",
       "      <td>Sports</td>\n",
       "      <td>Konami Digital Entertainment</td>\n",
       "      <td>0.06</td>\n",
       "      <td>0.30</td>\n",
       "      <td>0.19</td>\n",
       "      <td>0.03</td>\n",
       "      <td>0.58</td>\n",
       "    </tr>\n",
       "    <tr>\n",
       "      <th>...</th>\n",
       "      <td>...</td>\n",
       "      <td>...</td>\n",
       "      <td>...</td>\n",
       "      <td>...</td>\n",
       "      <td>...</td>\n",
       "      <td>...</td>\n",
       "      <td>...</td>\n",
       "      <td>...</td>\n",
       "      <td>...</td>\n",
       "      <td>...</td>\n",
       "    </tr>\n",
       "    <tr>\n",
       "      <th>9711</th>\n",
       "      <td>Echo Night</td>\n",
       "      <td>PS</td>\n",
       "      <td>1998.0</td>\n",
       "      <td>Adventure</td>\n",
       "      <td>From Software</td>\n",
       "      <td>0.03</td>\n",
       "      <td>0.02</td>\n",
       "      <td>0.07</td>\n",
       "      <td>0.01</td>\n",
       "      <td>0.12</td>\n",
       "    </tr>\n",
       "    <tr>\n",
       "      <th>2095</th>\n",
       "      <td>Oddworld: Abe's Exoddus</td>\n",
       "      <td>PS</td>\n",
       "      <td>1998.0</td>\n",
       "      <td>Platform</td>\n",
       "      <td>GT Interactive</td>\n",
       "      <td>0.55</td>\n",
       "      <td>0.38</td>\n",
       "      <td>0.00</td>\n",
       "      <td>0.06</td>\n",
       "      <td>0.99</td>\n",
       "    </tr>\n",
       "    <tr>\n",
       "      <th>3401</th>\n",
       "      <td>Jikkyou Powerful Pro Yakyuu '98 Kaimakuban</td>\n",
       "      <td>PS</td>\n",
       "      <td>1998.0</td>\n",
       "      <td>Sports</td>\n",
       "      <td>Konami Digital Entertainment</td>\n",
       "      <td>0.00</td>\n",
       "      <td>0.00</td>\n",
       "      <td>0.55</td>\n",
       "      <td>0.04</td>\n",
       "      <td>0.59</td>\n",
       "    </tr>\n",
       "    <tr>\n",
       "      <th>422</th>\n",
       "      <td>Baseball</td>\n",
       "      <td>NES</td>\n",
       "      <td>1983.0</td>\n",
       "      <td>Sports</td>\n",
       "      <td>Nintendo</td>\n",
       "      <td>0.73</td>\n",
       "      <td>0.10</td>\n",
       "      <td>2.35</td>\n",
       "      <td>0.02</td>\n",
       "      <td>3.20</td>\n",
       "    </tr>\n",
       "    <tr>\n",
       "      <th>1733</th>\n",
       "      <td>Cool Boarders 4</td>\n",
       "      <td>PS</td>\n",
       "      <td>1998.0</td>\n",
       "      <td>Sports</td>\n",
       "      <td>989 Studios</td>\n",
       "      <td>0.65</td>\n",
       "      <td>0.44</td>\n",
       "      <td>0.00</td>\n",
       "      <td>0.08</td>\n",
       "      <td>1.17</td>\n",
       "    </tr>\n",
       "  </tbody>\n",
       "</table>\n",
       "<p>100 rows × 10 columns</p>\n",
       "</div>"
      ],
      "text/plain": [
       "                                            Name Platform    Year      Genre  \\\n",
       "Rank                                                                           \n",
       "5247                                Boxer's Road       PS  1995.0   Fighting   \n",
       "4483                     Neon Genesis Evangelion      SAT  1996.0  Adventure   \n",
       "7243                       NHL Championship 2000       PS  1998.0     Sports   \n",
       "5291                                 Mega Man X3     SNES  1995.0     Action   \n",
       "3469          International Superstar Soccer '98      N64  1998.0     Sports   \n",
       "...                                          ...      ...     ...        ...   \n",
       "9711                                  Echo Night       PS  1998.0  Adventure   \n",
       "2095                     Oddworld: Abe's Exoddus       PS  1998.0   Platform   \n",
       "3401  Jikkyou Powerful Pro Yakyuu '98 Kaimakuban       PS  1998.0     Sports   \n",
       "422                                     Baseball      NES  1983.0     Sports   \n",
       "1733                             Cool Boarders 4       PS  1998.0     Sports   \n",
       "\n",
       "                         Publisher  NA_Sales  EU_Sales  JP_Sales  Other_Sales  \\\n",
       "Rank                                                                            \n",
       "5247                           New      0.00      0.00      0.33         0.02   \n",
       "4483                          Sega      0.00      0.00      0.44         0.00   \n",
       "7243               Fox Interactive      0.12      0.08      0.00         0.01   \n",
       "5291                        Laguna      0.04      0.01      0.30         0.00   \n",
       "3469  Konami Digital Entertainment      0.06      0.30      0.19         0.03   \n",
       "...                            ...       ...       ...       ...          ...   \n",
       "9711                 From Software      0.03      0.02      0.07         0.01   \n",
       "2095                GT Interactive      0.55      0.38      0.00         0.06   \n",
       "3401  Konami Digital Entertainment      0.00      0.00      0.55         0.04   \n",
       "422                       Nintendo      0.73      0.10      2.35         0.02   \n",
       "1733                   989 Studios      0.65      0.44      0.00         0.08   \n",
       "\n",
       "      Global_Sales  \n",
       "Rank                \n",
       "5247          0.36  \n",
       "4483          0.44  \n",
       "7243          0.22  \n",
       "5291          0.35  \n",
       "3469          0.58  \n",
       "...            ...  \n",
       "9711          0.12  \n",
       "2095          0.99  \n",
       "3401          0.59  \n",
       "422           3.20  \n",
       "1733          1.17  \n",
       "\n",
       "[100 rows x 10 columns]"
      ]
     },
     "execution_count": 71,
     "metadata": {},
     "output_type": "execute_result"
    }
   ],
   "source": [
    "###Filtering from 1980-1999\n",
    "Cond_20thCent=(Source_File_N0_0['Year']< 2000)\n",
    "Source_File_20cent=Source_File_N0_0.loc[Cond_20thCent]\n",
    "Source_File_20cent.sample(100)"
   ]
  },
  {
   "cell_type": "code",
   "execution_count": null,
   "id": "e3613a84",
   "metadata": {},
   "outputs": [],
   "source": []
  },
  {
   "cell_type": "code",
   "execution_count": null,
   "id": "b4767a7b",
   "metadata": {},
   "outputs": [],
   "source": []
  },
  {
   "cell_type": "markdown",
   "id": "2d147726",
   "metadata": {},
   "source": [
    "## FInding the 4 Most Popular Platform in the 20th Century"
   ]
  },
  {
   "cell_type": "code",
   "execution_count": 72,
   "id": "033cb6ed",
   "metadata": {},
   "outputs": [
    {
     "data": {
      "text/plain": [
       "{'PS': 916, 'N64': 246, 'SNES': 239, 'SAT': 173}"
      ]
     },
     "execution_count": 72,
     "metadata": {},
     "output_type": "execute_result"
    }
   ],
   "source": [
    "Platform_dict20=dict(Counter(Source_File_20cent['Platform']).most_common(4))\n",
    "Platform_dict20"
   ]
  },
  {
   "cell_type": "code",
   "execution_count": 73,
   "id": "160ec0fc",
   "metadata": {},
   "outputs": [
    {
     "data": {
      "image/png": "[encoded data removed]",
      "text/plain": [
       "<Figure size 432x288 with 1 Axes>"
      ]
     },
     "metadata": {},
     "output_type": "display_data"
    }
   ],
   "source": [
    "# Specifying X and Y Values - X-axis(Keys), Y-axis(Values)\n",
    "plt.bar(Platform_dict20.keys(), Platform_dict20.values(), color='Brown')\n",
    "\n",
    "#Providing Legends and Titles\n",
    "plt.title('Bar Graph of Platform Against Popularity')\n",
    "plt.ylabel('Popularity')\n",
    "plt.xlabel('Platform')\n",
    "\n",
    "#Preventing X-labels Overlap\n",
    "plt.xticks(rotation=90)\n",
    "\n",
    "#Preventing Extra_Information\n",
    "plt.show()"
   ]
  },
  {
   "cell_type": "code",
   "execution_count": null,
   "id": "9922e34d",
   "metadata": {},
   "outputs": [],
   "source": []
  },
  {
   "cell_type": "markdown",
   "id": "b979133a",
   "metadata": {},
   "source": [
    "## Highest Average_Global_Sales(Platform)"
   ]
  },
  {
   "cell_type": "code",
   "execution_count": 74,
   "id": "cdaa5ec5",
   "metadata": {},
   "outputs": [
    {
     "data": {
      "text/plain": [
       "{'GB': 3.2202857142857146,\n",
       " 'NES': 2.561938775510204,\n",
       " 'PC': 1.251,\n",
       " 'GEN': 1.0503703703703704,\n",
       " 'SNES': 0.8370292887029289}"
      ]
     },
     "execution_count": 74,
     "metadata": {},
     "output_type": "execute_result"
    }
   ],
   "source": [
    "Platform_grp=Source_File_20cent.groupby(['Platform'])\n",
    "Platform_Average_Global=(dict(Platform_grp['Global_Sales'].mean().nlargest(5)))\n",
    "Platform_Average_Global"
   ]
  },
  {
   "cell_type": "code",
   "execution_count": 75,
   "id": "bab83993",
   "metadata": {},
   "outputs": [
    {
     "data": {
      "image/png": "[encoded data removed]",
      "text/plain": [
       "<Figure size 504x504 with 1 Axes>"
      ]
     },
     "metadata": {},
     "output_type": "display_data"
    }
   ],
   "source": [
    "#Specifying the Figure Size\n",
    "plt.figure(figsize=(7,7))\n",
    "\n",
    "#Introducing the Pie Chart, autopct enables percentages on the diagram, 1f meands to 1 decimal place\n",
    "plt.pie(Platform_Average_Global.values(), labels=Platform_Average_Global.keys(), autopct=('%1.1f%%'))\n",
    "\n",
    "plt.axis('equal')\n",
    "plt.show()"
   ]
  },
  {
   "cell_type": "code",
   "execution_count": null,
   "id": "dad37de6",
   "metadata": {},
   "outputs": [],
   "source": []
  },
  {
   "cell_type": "code",
   "execution_count": null,
   "id": "23de27fb",
   "metadata": {},
   "outputs": [],
   "source": []
  },
  {
   "cell_type": "markdown",
   "id": "8564bbb1",
   "metadata": {},
   "source": [
    "## FInding the 4 Most Popular Publisher in the 20th Century"
   ]
  },
  {
   "cell_type": "code",
   "execution_count": 76,
   "id": "5e98b51e",
   "metadata": {},
   "outputs": [
    {
     "data": {
      "text/plain": [
       "{'Nintendo': 171,\n",
       " 'Sony Computer Entertainment': 155,\n",
       " 'Konami Digital Entertainment': 125,\n",
       " 'Sega': 116}"
      ]
     },
     "execution_count": 76,
     "metadata": {},
     "output_type": "execute_result"
    }
   ],
   "source": [
    "Publisher_dict20=dict(Counter(Source_File_20cent['Publisher']).most_common(4))\n",
    "Publisher_dict20"
   ]
  },
  {
   "cell_type": "code",
   "execution_count": 77,
   "id": "5ac642cd",
   "metadata": {},
   "outputs": [
    {
     "data": {
      "image/png": "[encoded data removed]",
      "text/plain": [
       "<Figure size 432x288 with 1 Axes>"
      ]
     },
     "metadata": {},
     "output_type": "display_data"
    }
   ],
   "source": [
    "# Specifying X and Y Values - X-axis(Keys), Y-axis(Values)\n",
    "plt.bar(Publisher_dict20.keys(), Publisher_dict20.values(), color='Yellow')\n",
    "\n",
    "#Providing Legends and Titles\n",
    "plt.title('Bar Graph of Publisher Against Popularity')\n",
    "plt.ylabel('Popularity')\n",
    "plt.xlabel('Publisher')\n",
    "\n",
    "#Preventing X-labels Overlap\n",
    "plt.xticks(rotation=290)\n",
    "\n",
    "#Preventing Extra_Information\n",
    "plt.show()"
   ]
  },
  {
   "cell_type": "code",
   "execution_count": null,
   "id": "d6a3ff9e",
   "metadata": {},
   "outputs": [],
   "source": []
  },
  {
   "cell_type": "markdown",
   "id": "5539b7fd",
   "metadata": {},
   "source": [
    "## Highest Average_Global_Sales(Publisher)"
   ]
  },
  {
   "cell_type": "code",
   "execution_count": 78,
   "id": "6c7a2f70",
   "metadata": {},
   "outputs": [
    {
     "data": {
      "text/plain": [
       "{'Palcom': 4.17,\n",
       " 'Nintendo': 3.5057309941520467,\n",
       " 'Red Orb': 2.62,\n",
       " 'Microsoft Game Studios': 2.61,\n",
       " 'Arena Entertainment': 2.36}"
      ]
     },
     "execution_count": 78,
     "metadata": {},
     "output_type": "execute_result"
    }
   ],
   "source": [
    "Publisher_grp=Source_File_20cent.groupby(['Publisher'])\n",
    "Publisher_Average_Global=(dict(Publisher_grp['Global_Sales'].mean(5).nlargest(5)))\n",
    "Publisher_Average_Global"
   ]
  },
  {
   "cell_type": "code",
   "execution_count": 79,
   "id": "58eef327",
   "metadata": {},
   "outputs": [
    {
     "data": {
      "image/png": "[encoded data removed]",
      "text/plain": [
       "<Figure size 504x504 with 1 Axes>"
      ]
     },
     "metadata": {},
     "output_type": "display_data"
    }
   ],
   "source": [
    "#Specifying the Figure Size\n",
    "plt.figure(figsize=(7,7))\n",
    "\n",
    "#Introducing the Pie Chart, autopct enables percentages on the diagram, 1f meands to 1 decimal place\n",
    "plt.pie(Publisher_Average_Global.values(), labels=Publisher_Average_Global.keys(), autopct=('%1.1f%%'))\n",
    "\n",
    "plt.axis('equal')\n",
    "plt.show()"
   ]
  },
  {
   "cell_type": "code",
   "execution_count": null,
   "id": "8558474f",
   "metadata": {},
   "outputs": [],
   "source": []
  },
  {
   "cell_type": "code",
   "execution_count": null,
   "id": "8a0b8b0b",
   "metadata": {},
   "outputs": [],
   "source": []
  },
  {
   "cell_type": "markdown",
   "id": "1949a672",
   "metadata": {},
   "source": [
    "## FInding the 4 Most Popular Genre in the 20th Century"
   ]
  },
  {
   "cell_type": "code",
   "execution_count": 80,
   "id": "387b1da9",
   "metadata": {},
   "outputs": [
    {
     "data": {
      "text/plain": [
       "{'Sports': 327, 'Action': 228, 'Fighting': 197, 'Racing': 191}"
      ]
     },
     "execution_count": 80,
     "metadata": {},
     "output_type": "execute_result"
    }
   ],
   "source": [
    "Genre_dict20=dict(Counter(Source_File_20cent['Genre']).most_common(4))\n",
    "Genre_dict20"
   ]
  },
  {
   "cell_type": "code",
   "execution_count": 121,
   "id": "44d476ee",
   "metadata": {},
   "outputs": [
    {
     "data": {
      "image/png": "[encoded data removed]",
      "text/plain": [
       "<Figure size 432x288 with 1 Axes>"
      ]
     },
     "metadata": {},
     "output_type": "display_data"
    }
   ],
   "source": [
    "# Specifying X and Y Values - X-axis(Keys), Y-axis(Values)\n",
    "plt.bar(Genre_dict20.keys(), Genre_dict20.values(), color='Green')\n",
    "\n",
    "#Providing Legends and Titles\n",
    "plt.title('Bar Graph of Genre Against Popularity')\n",
    "plt.ylabel('Popularity')\n",
    "plt.xlabel('Genre')\n",
    "\n",
    "#Preventing X-labels Overlap\n",
    "plt.xticks(rotation=270)\n",
    "\n",
    "#Preventing Extra_Information\n",
    "plt.show()"
   ]
  },
  {
   "cell_type": "code",
   "execution_count": null,
   "id": "344ee156",
   "metadata": {},
   "outputs": [],
   "source": []
  },
  {
   "cell_type": "markdown",
   "id": "e92592f9",
   "metadata": {},
   "source": [
    "## Highest Average_Global_Sales(Genre)"
   ]
  },
  {
   "cell_type": "code",
   "execution_count": 86,
   "id": "c7a6b266",
   "metadata": {},
   "outputs": [
    {
     "data": {
      "text/plain": [
       "{'Platform': 2.096075949367089,\n",
       " 'Puzzle': 1.1302222222222222,\n",
       " 'Role-Playing': 1.1037016574585636,\n",
       " 'Racing': 0.8507853403141361,\n",
       " 'Action': 0.8353947368421053}"
      ]
     },
     "execution_count": 86,
     "metadata": {},
     "output_type": "execute_result"
    }
   ],
   "source": [
    "Genre_grp20=Source_File_20cent.groupby(['Genre'])\n",
    "Genre_Average_Global20=(dict(Genre_grp20['Global_Sales'].mean().nlargest(5)))\n",
    "Genre_Average_Global20"
   ]
  },
  {
   "cell_type": "code",
   "execution_count": 92,
   "id": "2958bec9",
   "metadata": {},
   "outputs": [
    {
     "data": {
      "image/png": "[encoded data removed]",
      "text/plain": [
       "<Figure size 504x504 with 1 Axes>"
      ]
     },
     "metadata": {},
     "output_type": "display_data"
    }
   ],
   "source": [
    "#Specifying the Figure Size\n",
    "plt.figure(figsize=(7,7))\n",
    "\n",
    "#Introducing the Pie Chart, autopct enables percentages on the diagram, 1f meands to 1 decimal place\n",
    "plt.pie(Genre_Average_Global20.values(), labels=Genre_Average_Global20.keys(), autopct=('%1.1f%%'))\n",
    "\n",
    "plt.axis('equal')\n",
    "plt.show()"
   ]
  },
  {
   "cell_type": "code",
   "execution_count": null,
   "id": "c1c50580",
   "metadata": {},
   "outputs": [],
   "source": []
  },
  {
   "cell_type": "code",
   "execution_count": null,
   "id": "aa9c3d97",
   "metadata": {},
   "outputs": [],
   "source": []
  },
  {
   "cell_type": "markdown",
   "id": "f9fba505",
   "metadata": {},
   "source": [
    "## Filtering from Year 2000 to 2020 (21st Century)"
   ]
  },
  {
   "cell_type": "code",
   "execution_count": 93,
   "id": "133b28db",
   "metadata": {},
   "outputs": [
    {
     "data": {
      "text/html": [
       "<div>\n",
       "<style scoped>\n",
       "    .dataframe tbody tr th:only-of-type {\n",
       "        vertical-align: middle;\n",
       "    }\n",
       "\n",
       "    .dataframe tbody tr th {\n",
       "        vertical-align: top;\n",
       "    }\n",
       "\n",
       "    .dataframe thead th {\n",
       "        text-align: right;\n",
       "    }\n",
       "</style>\n",
       "<table border=\"1\" class=\"dataframe\">\n",
       "  <thead>\n",
       "    <tr style=\"text-align: right;\">\n",
       "      <th></th>\n",
       "      <th>Name</th>\n",
       "      <th>Platform</th>\n",
       "      <th>Year</th>\n",
       "      <th>Genre</th>\n",
       "      <th>Publisher</th>\n",
       "      <th>NA_Sales</th>\n",
       "      <th>EU_Sales</th>\n",
       "      <th>JP_Sales</th>\n",
       "      <th>Other_Sales</th>\n",
       "      <th>Global_Sales</th>\n",
       "    </tr>\n",
       "    <tr>\n",
       "      <th>Rank</th>\n",
       "      <th></th>\n",
       "      <th></th>\n",
       "      <th></th>\n",
       "      <th></th>\n",
       "      <th></th>\n",
       "      <th></th>\n",
       "      <th></th>\n",
       "      <th></th>\n",
       "      <th></th>\n",
       "      <th></th>\n",
       "    </tr>\n",
       "  </thead>\n",
       "  <tbody>\n",
       "    <tr>\n",
       "      <th>15603</th>\n",
       "      <td>Emergency 2012</td>\n",
       "      <td>DS</td>\n",
       "      <td>2010.0</td>\n",
       "      <td>Simulation</td>\n",
       "      <td>Rondomedia</td>\n",
       "      <td>0.00</td>\n",
       "      <td>0.02</td>\n",
       "      <td>0.00</td>\n",
       "      <td>0.00</td>\n",
       "      <td>0.02</td>\n",
       "    </tr>\n",
       "    <tr>\n",
       "      <th>11856</th>\n",
       "      <td>Romance of the Three Kingdoms XI</td>\n",
       "      <td>PS2</td>\n",
       "      <td>2007.0</td>\n",
       "      <td>Strategy</td>\n",
       "      <td>Tecmo Koei</td>\n",
       "      <td>0.00</td>\n",
       "      <td>0.00</td>\n",
       "      <td>0.07</td>\n",
       "      <td>0.00</td>\n",
       "      <td>0.07</td>\n",
       "    </tr>\n",
       "    <tr>\n",
       "      <th>9794</th>\n",
       "      <td>The King of Fighters Collection: The Orochi Saga</td>\n",
       "      <td>Wii</td>\n",
       "      <td>2008.0</td>\n",
       "      <td>Fighting</td>\n",
       "      <td>Ignition Entertainment</td>\n",
       "      <td>0.11</td>\n",
       "      <td>0.00</td>\n",
       "      <td>0.00</td>\n",
       "      <td>0.01</td>\n",
       "      <td>0.12</td>\n",
       "    </tr>\n",
       "    <tr>\n",
       "      <th>10368</th>\n",
       "      <td>Rock Revolution</td>\n",
       "      <td>DS</td>\n",
       "      <td>2008.0</td>\n",
       "      <td>Misc</td>\n",
       "      <td>Konami Digital Entertainment</td>\n",
       "      <td>0.10</td>\n",
       "      <td>0.00</td>\n",
       "      <td>0.00</td>\n",
       "      <td>0.01</td>\n",
       "      <td>0.11</td>\n",
       "    </tr>\n",
       "    <tr>\n",
       "      <th>12183</th>\n",
       "      <td>Nobunaga no Yabou: Tendou with Power-Up Kit</td>\n",
       "      <td>PS3</td>\n",
       "      <td>2011.0</td>\n",
       "      <td>Strategy</td>\n",
       "      <td>Tecmo Koei</td>\n",
       "      <td>0.00</td>\n",
       "      <td>0.00</td>\n",
       "      <td>0.07</td>\n",
       "      <td>0.00</td>\n",
       "      <td>0.07</td>\n",
       "    </tr>\n",
       "    <tr>\n",
       "      <th>...</th>\n",
       "      <td>...</td>\n",
       "      <td>...</td>\n",
       "      <td>...</td>\n",
       "      <td>...</td>\n",
       "      <td>...</td>\n",
       "      <td>...</td>\n",
       "      <td>...</td>\n",
       "      <td>...</td>\n",
       "      <td>...</td>\n",
       "      <td>...</td>\n",
       "    </tr>\n",
       "    <tr>\n",
       "      <th>5327</th>\n",
       "      <td>From TV Animation One Piece: Tobidase Kaizokudan!</td>\n",
       "      <td>PS</td>\n",
       "      <td>2001.0</td>\n",
       "      <td>Role-Playing</td>\n",
       "      <td>Namco Bandai Games</td>\n",
       "      <td>0.00</td>\n",
       "      <td>0.00</td>\n",
       "      <td>0.32</td>\n",
       "      <td>0.02</td>\n",
       "      <td>0.35</td>\n",
       "    </tr>\n",
       "    <tr>\n",
       "      <th>9299</th>\n",
       "      <td>Apex</td>\n",
       "      <td>XB</td>\n",
       "      <td>2003.0</td>\n",
       "      <td>Racing</td>\n",
       "      <td>Atari</td>\n",
       "      <td>0.10</td>\n",
       "      <td>0.03</td>\n",
       "      <td>0.00</td>\n",
       "      <td>0.00</td>\n",
       "      <td>0.14</td>\n",
       "    </tr>\n",
       "    <tr>\n",
       "      <th>741</th>\n",
       "      <td>High School Musical: Makin' the Cut!</td>\n",
       "      <td>DS</td>\n",
       "      <td>2007.0</td>\n",
       "      <td>Puzzle</td>\n",
       "      <td>Disney Interactive Studios</td>\n",
       "      <td>1.06</td>\n",
       "      <td>0.91</td>\n",
       "      <td>0.00</td>\n",
       "      <td>0.23</td>\n",
       "      <td>2.20</td>\n",
       "    </tr>\n",
       "    <tr>\n",
       "      <th>9648</th>\n",
       "      <td>Battleborn</td>\n",
       "      <td>XOne</td>\n",
       "      <td>2016.0</td>\n",
       "      <td>Shooter</td>\n",
       "      <td>Take-Two Interactive</td>\n",
       "      <td>0.08</td>\n",
       "      <td>0.04</td>\n",
       "      <td>0.00</td>\n",
       "      <td>0.01</td>\n",
       "      <td>0.13</td>\n",
       "    </tr>\n",
       "    <tr>\n",
       "      <th>16393</th>\n",
       "      <td>World Snooker Championship 2007</td>\n",
       "      <td>X360</td>\n",
       "      <td>2007.0</td>\n",
       "      <td>Sports</td>\n",
       "      <td>Sega</td>\n",
       "      <td>0.00</td>\n",
       "      <td>0.01</td>\n",
       "      <td>0.00</td>\n",
       "      <td>0.00</td>\n",
       "      <td>0.01</td>\n",
       "    </tr>\n",
       "  </tbody>\n",
       "</table>\n",
       "<p>100 rows × 10 columns</p>\n",
       "</div>"
      ],
      "text/plain": [
       "                                                    Name Platform    Year  \\\n",
       "Rank                                                                        \n",
       "15603                                     Emergency 2012       DS  2010.0   \n",
       "11856                   Romance of the Three Kingdoms XI      PS2  2007.0   \n",
       "9794    The King of Fighters Collection: The Orochi Saga      Wii  2008.0   \n",
       "10368                                    Rock Revolution       DS  2008.0   \n",
       "12183        Nobunaga no Yabou: Tendou with Power-Up Kit      PS3  2011.0   \n",
       "...                                                  ...      ...     ...   \n",
       "5327   From TV Animation One Piece: Tobidase Kaizokudan!       PS  2001.0   \n",
       "9299                                                Apex       XB  2003.0   \n",
       "741                 High School Musical: Makin' the Cut!       DS  2007.0   \n",
       "9648                                          Battleborn     XOne  2016.0   \n",
       "16393                    World Snooker Championship 2007     X360  2007.0   \n",
       "\n",
       "              Genre                     Publisher  NA_Sales  EU_Sales  \\\n",
       "Rank                                                                    \n",
       "15603    Simulation                    Rondomedia      0.00      0.02   \n",
       "11856      Strategy                    Tecmo Koei      0.00      0.00   \n",
       "9794       Fighting        Ignition Entertainment      0.11      0.00   \n",
       "10368          Misc  Konami Digital Entertainment      0.10      0.00   \n",
       "12183      Strategy                    Tecmo Koei      0.00      0.00   \n",
       "...             ...                           ...       ...       ...   \n",
       "5327   Role-Playing            Namco Bandai Games      0.00      0.00   \n",
       "9299         Racing                         Atari      0.10      0.03   \n",
       "741          Puzzle    Disney Interactive Studios      1.06      0.91   \n",
       "9648        Shooter          Take-Two Interactive      0.08      0.04   \n",
       "16393        Sports                          Sega      0.00      0.01   \n",
       "\n",
       "       JP_Sales  Other_Sales  Global_Sales  \n",
       "Rank                                        \n",
       "15603      0.00         0.00          0.02  \n",
       "11856      0.07         0.00          0.07  \n",
       "9794       0.00         0.01          0.12  \n",
       "10368      0.00         0.01          0.11  \n",
       "12183      0.07         0.00          0.07  \n",
       "...         ...          ...           ...  \n",
       "5327       0.32         0.02          0.35  \n",
       "9299       0.00         0.00          0.14  \n",
       "741        0.00         0.23          2.20  \n",
       "9648       0.00         0.01          0.13  \n",
       "16393      0.00         0.00          0.01  \n",
       "\n",
       "[100 rows x 10 columns]"
      ]
     },
     "execution_count": 93,
     "metadata": {},
     "output_type": "execute_result"
    }
   ],
   "source": [
    "Cond_21Cent=(Source_File_N0_0['Year']> 1999)\n",
    "Source_File_21cent=Source_File_N0_0.loc[Cond_21Cent]\n",
    "\n",
    "Source_File_21cent.sample(100)"
   ]
  },
  {
   "cell_type": "code",
   "execution_count": null,
   "id": "a3f505a3",
   "metadata": {},
   "outputs": [],
   "source": []
  },
  {
   "cell_type": "code",
   "execution_count": null,
   "id": "ab2b79ab",
   "metadata": {},
   "outputs": [],
   "source": []
  },
  {
   "cell_type": "markdown",
   "id": "b3e518a3",
   "metadata": {},
   "source": [
    "## FInding the 4 Most Popular Platform in the 20th Century"
   ]
  },
  {
   "cell_type": "code",
   "execution_count": 95,
   "id": "089f5926",
   "metadata": {},
   "outputs": [
    {
     "data": {
      "text/plain": [
       "{'DS': 2132, 'PS2': 2127, 'PS3': 1304, 'Wii': 1290}"
      ]
     },
     "execution_count": 95,
     "metadata": {},
     "output_type": "execute_result"
    }
   ],
   "source": [
    "Platform_dict21 =dict(Counter(Source_File_21cent['Platform']).most_common(4))\n",
    "Platform_dict21"
   ]
  },
  {
   "cell_type": "code",
   "execution_count": 96,
   "id": "f7057d5d",
   "metadata": {},
   "outputs": [
    {
     "data": {
      "image/png": "[encoded data removed]",
      "text/plain": [
       "<Figure size 432x288 with 1 Axes>"
      ]
     },
     "metadata": {},
     "output_type": "display_data"
    }
   ],
   "source": [
    "# Specifying X and Y Values - X-axis(Keys), Y-axis(Values)\n",
    "plt.bar(Platform_dict21.keys(), Platform_dict21.values(), color='Brown')\n",
    "\n",
    "#Providing Legends and Titles\n",
    "plt.title('Bar Graph of Platform Against Popularity')\n",
    "plt.ylabel('Popularity')\n",
    "plt.xlabel('Platform')\n",
    "\n",
    "#Preventing X-labels Overlap\n",
    "plt.xticks(rotation=90)\n",
    "\n",
    "#Preventing Extra_Information\n",
    "plt.show()"
   ]
  },
  {
   "cell_type": "code",
   "execution_count": null,
   "id": "bdb8ac6d",
   "metadata": {},
   "outputs": [],
   "source": []
  },
  {
   "cell_type": "markdown",
   "id": "f76daf15",
   "metadata": {},
   "source": [
    "## Highest Average_Global_Sales(Platform)"
   ]
  },
  {
   "cell_type": "code",
   "execution_count": 98,
   "id": "577955ac",
   "metadata": {},
   "outputs": [
    {
     "data": {
      "text/plain": [
       "{'GB': 1.0740740740740742,\n",
       " 'PS4': 0.8276785714285715,\n",
       " 'X360': 0.7851093117408907,\n",
       " 'PS3': 0.7280291411042945,\n",
       " 'Wii': 0.7052790697674418}"
      ]
     },
     "execution_count": 98,
     "metadata": {},
     "output_type": "execute_result"
    }
   ],
   "source": [
    "Platform_grp21=Source_File_21cent.groupby(['Platform'])\n",
    "Platform_Average_Global21=(dict(Platform_grp21['Global_Sales'].mean().nlargest(5)))\n",
    "Platform_Average_Global21"
   ]
  },
  {
   "cell_type": "code",
   "execution_count": 99,
   "id": "d58e0b3a",
   "metadata": {},
   "outputs": [
    {
     "data": {
      "image/png": "[encoded data removed]",
      "text/plain": [
       "<Figure size 504x504 with 1 Axes>"
      ]
     },
     "metadata": {},
     "output_type": "display_data"
    }
   ],
   "source": [
    "#Specifying the Figure Size\n",
    "plt.figure(figsize=(7,7))\n",
    "\n",
    "#Introducing the Pie Chart, autopct enables percentages on the diagram, 1f meands to 1 decimal place\n",
    "plt.pie(Platform_Average_Global21.values(), labels=Platform_Average_Global21.keys(), autopct=('%1.1f%%'))\n",
    "\n",
    "plt.axis('equal')\n",
    "plt.show()"
   ]
  },
  {
   "cell_type": "code",
   "execution_count": null,
   "id": "e3e95c28",
   "metadata": {},
   "outputs": [],
   "source": []
  },
  {
   "cell_type": "code",
   "execution_count": null,
   "id": "73b197b8",
   "metadata": {},
   "outputs": [],
   "source": []
  },
  {
   "cell_type": "markdown",
   "id": "5695e410",
   "metadata": {},
   "source": [
    "## Finding the 4 Most Popular Genre in the 21st Century"
   ]
  },
  {
   "cell_type": "code",
   "execution_count": 100,
   "id": "5dd92566",
   "metadata": {},
   "outputs": [
    {
     "data": {
      "text/plain": [
       "{'Action': 3025, 'Sports': 1977, 'Misc': 1586, 'Role-Playing': 1290}"
      ]
     },
     "execution_count": 100,
     "metadata": {},
     "output_type": "execute_result"
    }
   ],
   "source": [
    "Genre_dict21=dict(Counter(Source_File_21cent['Genre']).most_common(4))\n",
    "Genre_dict21"
   ]
  },
  {
   "cell_type": "code",
   "execution_count": 101,
   "id": "e1504ee2",
   "metadata": {},
   "outputs": [
    {
     "data": {
      "image/png": "[encoded data removed]",
      "text/plain": [
       "<Figure size 432x288 with 1 Axes>"
      ]
     },
     "metadata": {},
     "output_type": "display_data"
    }
   ],
   "source": [
    "# Specifying X and Y Values - X-axis(Keys), Y-axis(Values)\n",
    "plt.bar(Genre_dict21.keys(), Genre_dict21.values(), color='Green')\n",
    "\n",
    "#Providing Legends and Titles\n",
    "plt.title('Bar Graph of Genre Against Popularity')\n",
    "plt.ylabel('Popularity')\n",
    "plt.xlabel('Genre')\n",
    "\n",
    "#Preventing X-labels Overlap\n",
    "plt.xticks(rotation=270)\n",
    "\n",
    "#Preventing Extra_Information\n",
    "plt.show()"
   ]
  },
  {
   "cell_type": "code",
   "execution_count": null,
   "id": "946c3972",
   "metadata": {},
   "outputs": [],
   "source": []
  },
  {
   "cell_type": "markdown",
   "id": "3688ee6d",
   "metadata": {},
   "source": [
    "## Highest_Average_Global_Sales(Genre)"
   ]
  },
  {
   "cell_type": "code",
   "execution_count": 102,
   "id": "ed955c98",
   "metadata": {},
   "outputs": [
    {
     "data": {
      "text/plain": [
       "{'Shooter': 0.8048968609865471,\n",
       " 'Platform': 0.6935515320334262,\n",
       " 'Sports': 0.571770359129995,\n",
       " 'Role-Playing': 0.5612945736434108,\n",
       " 'Racing': 0.5451884057971015}"
      ]
     },
     "execution_count": 102,
     "metadata": {},
     "output_type": "execute_result"
    }
   ],
   "source": [
    "Genre_grp21=Source_File_21cent.groupby(['Genre'])\n",
    "Genre_Average_Global21=(dict(Genre_grp21['Global_Sales'].mean().nlargest(5)))\n",
    "Genre_Average_Global21"
   ]
  },
  {
   "cell_type": "code",
   "execution_count": 103,
   "id": "8c2a6880",
   "metadata": {},
   "outputs": [
    {
     "data": {
      "image/png": "[encoded data removed]",
      "text/plain": [
       "<Figure size 504x504 with 1 Axes>"
      ]
     },
     "metadata": {},
     "output_type": "display_data"
    }
   ],
   "source": [
    "#Specifying the Figure Size\n",
    "plt.figure(figsize=(7,7))\n",
    "\n",
    "#Introducing the Pie Chart, autopct enables percentages on the diagram, 1f meands to 1 decimal place\n",
    "plt.pie(Genre_Average_Global21.values(), labels=Genre_Average_Global21.keys(), autopct=('%1.1f%%'))\n",
    "\n",
    "plt.axis('equal')\n",
    "plt.show()"
   ]
  },
  {
   "cell_type": "markdown",
   "id": "d2fbcb63",
   "metadata": {},
   "source": []
  },
  {
   "cell_type": "code",
   "execution_count": null,
   "id": "9afc32b4",
   "metadata": {},
   "outputs": [],
   "source": []
  },
  {
   "cell_type": "markdown",
   "id": "5c2a1fee",
   "metadata": {},
   "source": [
    "## FInding the 4 Most Popular Publisher in the 20th Century"
   ]
  },
  {
   "cell_type": "code",
   "execution_count": 104,
   "id": "004aa025",
   "metadata": {},
   "outputs": [
    {
     "data": {
      "text/plain": [
       "{'Electronic Arts': 1231,\n",
       " 'Activision': 910,\n",
       " 'Ubisoft': 899,\n",
       " 'Namco Bandai Games': 840}"
      ]
     },
     "execution_count": 104,
     "metadata": {},
     "output_type": "execute_result"
    }
   ],
   "source": [
    "Publisher_dict21=dict(Counter(Source_File_21cent['Publisher']).most_common(4))\n",
    "Publisher_dict21"
   ]
  },
  {
   "cell_type": "code",
   "execution_count": 105,
   "id": "a7fe5880",
   "metadata": {},
   "outputs": [
    {
     "data": {
      "image/png": "[encoded data removed]",
      "text/plain": [
       "<Figure size 432x288 with 1 Axes>"
      ]
     },
     "metadata": {},
     "output_type": "display_data"
    }
   ],
   "source": [
    "# Specifying X and Y Values - X-axis(Keys), Y-axis(Values)\n",
    "plt.bar(Publisher_dict21.keys(), Publisher_dict21.values(), color='Yellow')\n",
    "\n",
    "#Providing Legends and Titles\n",
    "plt.title('Bar Graph of Publisher Against Popularity')\n",
    "plt.ylabel('Popularity')\n",
    "plt.xlabel('Publisher')\n",
    "\n",
    "#Preventing X-labels Overlap\n",
    "plt.xticks(rotation=290)\n",
    "\n",
    "#Preventing Extra_Information\n",
    "plt.show()"
   ]
  },
  {
   "cell_type": "code",
   "execution_count": null,
   "id": "d50cba31",
   "metadata": {},
   "outputs": [],
   "source": []
  },
  {
   "cell_type": "markdown",
   "id": "7801f23e",
   "metadata": {},
   "source": [
    "## Highest Average_Global_Sales(Publisher)"
   ]
  },
  {
   "cell_type": "code",
   "execution_count": 106,
   "id": "42a3a197",
   "metadata": {},
   "outputs": [
    {
     "data": {
      "text/plain": [
       "{'Nintendo': 2.257047619047619,\n",
       " 'RedOctane': 2.17,\n",
       " 'Valve': 1.74,\n",
       " 'Hello Games': 1.6,\n",
       " 'Sony Computer Entertainment Europe': 1.5926666666666667}"
      ]
     },
     "execution_count": 106,
     "metadata": {},
     "output_type": "execute_result"
    }
   ],
   "source": [
    "Publisher_grp21=Source_File_21cent.groupby(['Publisher'])\n",
    "Publisher_Average_Global21=(dict(Publisher_grp21['Global_Sales'].mean(5).nlargest(5)))\n",
    "Publisher_Average_Global21"
   ]
  },
  {
   "cell_type": "code",
   "execution_count": 107,
   "id": "9b11cfb6",
   "metadata": {},
   "outputs": [
    {
     "data": {
      "image/png": "[encoded data removed]",
      "text/plain": [
       "<Figure size 504x504 with 1 Axes>"
      ]
     },
     "metadata": {},
     "output_type": "display_data"
    }
   ],
   "source": [
    "#Specifying the Figure Size\n",
    "plt.figure(figsize=(7,7))\n",
    "\n",
    "#Introducing the Pie Chart, autopct enables percentages on the diagram, 1f meands to 1 decimal place\n",
    "plt.pie(Publisher_Average_Global21.values(), labels=Publisher_Average_Global21.keys(), autopct=('%1.1f%%'))\n",
    "\n",
    "plt.axis('equal')\n",
    "plt.show()"
   ]
  },
  {
   "cell_type": "code",
   "execution_count": null,
   "id": "a7f6f476",
   "metadata": {},
   "outputs": [],
   "source": []
  },
  {
   "cell_type": "code",
   "execution_count": null,
   "id": "aeafbf52",
   "metadata": {},
   "outputs": [],
   "source": []
  },
  {
   "cell_type": "markdown",
   "id": "171f8a43",
   "metadata": {},
   "source": [
    "## Filtering only 0 Years"
   ]
  },
  {
   "cell_type": "code",
   "execution_count": 108,
   "id": "7e5c0846",
   "metadata": {},
   "outputs": [
    {
     "data": {
      "text/html": [
       "<div>\n",
       "<style scoped>\n",
       "    .dataframe tbody tr th:only-of-type {\n",
       "        vertical-align: middle;\n",
       "    }\n",
       "\n",
       "    .dataframe tbody tr th {\n",
       "        vertical-align: top;\n",
       "    }\n",
       "\n",
       "    .dataframe thead th {\n",
       "        text-align: right;\n",
       "    }\n",
       "</style>\n",
       "<table border=\"1\" class=\"dataframe\">\n",
       "  <thead>\n",
       "    <tr style=\"text-align: right;\">\n",
       "      <th></th>\n",
       "      <th>Name</th>\n",
       "      <th>Platform</th>\n",
       "      <th>Year</th>\n",
       "      <th>Genre</th>\n",
       "      <th>Publisher</th>\n",
       "      <th>NA_Sales</th>\n",
       "      <th>EU_Sales</th>\n",
       "      <th>JP_Sales</th>\n",
       "      <th>Other_Sales</th>\n",
       "      <th>Global_Sales</th>\n",
       "    </tr>\n",
       "    <tr>\n",
       "      <th>Rank</th>\n",
       "      <th></th>\n",
       "      <th></th>\n",
       "      <th></th>\n",
       "      <th></th>\n",
       "      <th></th>\n",
       "      <th></th>\n",
       "      <th></th>\n",
       "      <th></th>\n",
       "      <th></th>\n",
       "      <th></th>\n",
       "    </tr>\n",
       "  </thead>\n",
       "  <tbody>\n",
       "    <tr>\n",
       "      <th>180</th>\n",
       "      <td>Madden NFL 2004</td>\n",
       "      <td>PS2</td>\n",
       "      <td>0.0</td>\n",
       "      <td>Sports</td>\n",
       "      <td>Electronic Arts</td>\n",
       "      <td>4.26</td>\n",
       "      <td>0.26</td>\n",
       "      <td>0.01</td>\n",
       "      <td>0.71</td>\n",
       "      <td>5.23</td>\n",
       "    </tr>\n",
       "    <tr>\n",
       "      <th>378</th>\n",
       "      <td>FIFA Soccer 2004</td>\n",
       "      <td>PS2</td>\n",
       "      <td>0.0</td>\n",
       "      <td>Sports</td>\n",
       "      <td>Electronic Arts</td>\n",
       "      <td>0.59</td>\n",
       "      <td>2.36</td>\n",
       "      <td>0.04</td>\n",
       "      <td>0.51</td>\n",
       "      <td>3.49</td>\n",
       "    </tr>\n",
       "    <tr>\n",
       "      <th>432</th>\n",
       "      <td>LEGO Batman: The Videogame</td>\n",
       "      <td>Wii</td>\n",
       "      <td>0.0</td>\n",
       "      <td>Action</td>\n",
       "      <td>Warner Bros. Interactive Entertainment</td>\n",
       "      <td>1.86</td>\n",
       "      <td>1.02</td>\n",
       "      <td>0.00</td>\n",
       "      <td>0.29</td>\n",
       "      <td>3.17</td>\n",
       "    </tr>\n",
       "    <tr>\n",
       "      <th>471</th>\n",
       "      <td>wwe Smackdown vs. Raw 2006</td>\n",
       "      <td>PS2</td>\n",
       "      <td>0.0</td>\n",
       "      <td>Fighting</td>\n",
       "      <td>0</td>\n",
       "      <td>1.57</td>\n",
       "      <td>1.02</td>\n",
       "      <td>0.00</td>\n",
       "      <td>0.41</td>\n",
       "      <td>3.00</td>\n",
       "    </tr>\n",
       "    <tr>\n",
       "      <th>608</th>\n",
       "      <td>Space Invaders</td>\n",
       "      <td>2600</td>\n",
       "      <td>0.0</td>\n",
       "      <td>Shooter</td>\n",
       "      <td>Atari</td>\n",
       "      <td>2.36</td>\n",
       "      <td>0.14</td>\n",
       "      <td>0.00</td>\n",
       "      <td>0.03</td>\n",
       "      <td>2.53</td>\n",
       "    </tr>\n",
       "    <tr>\n",
       "      <th>...</th>\n",
       "      <td>...</td>\n",
       "      <td>...</td>\n",
       "      <td>...</td>\n",
       "      <td>...</td>\n",
       "      <td>...</td>\n",
       "      <td>...</td>\n",
       "      <td>...</td>\n",
       "      <td>...</td>\n",
       "      <td>...</td>\n",
       "      <td>...</td>\n",
       "    </tr>\n",
       "    <tr>\n",
       "      <th>16310</th>\n",
       "      <td>Freaky Flyers</td>\n",
       "      <td>GC</td>\n",
       "      <td>0.0</td>\n",
       "      <td>Racing</td>\n",
       "      <td>Unknown</td>\n",
       "      <td>0.01</td>\n",
       "      <td>0.00</td>\n",
       "      <td>0.00</td>\n",
       "      <td>0.00</td>\n",
       "      <td>0.01</td>\n",
       "    </tr>\n",
       "    <tr>\n",
       "      <th>16330</th>\n",
       "      <td>Inversion</td>\n",
       "      <td>PC</td>\n",
       "      <td>0.0</td>\n",
       "      <td>Shooter</td>\n",
       "      <td>Namco Bandai Games</td>\n",
       "      <td>0.01</td>\n",
       "      <td>0.00</td>\n",
       "      <td>0.00</td>\n",
       "      <td>0.00</td>\n",
       "      <td>0.01</td>\n",
       "    </tr>\n",
       "    <tr>\n",
       "      <th>16369</th>\n",
       "      <td>Hakuouki: Shinsengumi Kitan</td>\n",
       "      <td>PS3</td>\n",
       "      <td>0.0</td>\n",
       "      <td>Adventure</td>\n",
       "      <td>Unknown</td>\n",
       "      <td>0.01</td>\n",
       "      <td>0.00</td>\n",
       "      <td>0.00</td>\n",
       "      <td>0.00</td>\n",
       "      <td>0.01</td>\n",
       "    </tr>\n",
       "    <tr>\n",
       "      <th>16430</th>\n",
       "      <td>Virtua Quest</td>\n",
       "      <td>GC</td>\n",
       "      <td>0.0</td>\n",
       "      <td>Role-Playing</td>\n",
       "      <td>Unknown</td>\n",
       "      <td>0.01</td>\n",
       "      <td>0.00</td>\n",
       "      <td>0.00</td>\n",
       "      <td>0.00</td>\n",
       "      <td>0.01</td>\n",
       "    </tr>\n",
       "    <tr>\n",
       "      <th>16496</th>\n",
       "      <td>The Smurfs</td>\n",
       "      <td>3DS</td>\n",
       "      <td>0.0</td>\n",
       "      <td>Action</td>\n",
       "      <td>Unknown</td>\n",
       "      <td>0.00</td>\n",
       "      <td>0.01</td>\n",
       "      <td>0.00</td>\n",
       "      <td>0.00</td>\n",
       "      <td>0.01</td>\n",
       "    </tr>\n",
       "  </tbody>\n",
       "</table>\n",
       "<p>271 rows × 10 columns</p>\n",
       "</div>"
      ],
      "text/plain": [
       "                              Name Platform  Year         Genre  \\\n",
       "Rank                                                              \n",
       "180                Madden NFL 2004      PS2   0.0        Sports   \n",
       "378               FIFA Soccer 2004      PS2   0.0        Sports   \n",
       "432     LEGO Batman: The Videogame      Wii   0.0        Action   \n",
       "471     wwe Smackdown vs. Raw 2006      PS2   0.0      Fighting   \n",
       "608                 Space Invaders     2600   0.0       Shooter   \n",
       "...                            ...      ...   ...           ...   \n",
       "16310                Freaky Flyers       GC   0.0        Racing   \n",
       "16330                    Inversion       PC   0.0       Shooter   \n",
       "16369  Hakuouki: Shinsengumi Kitan      PS3   0.0     Adventure   \n",
       "16430                 Virtua Quest       GC   0.0  Role-Playing   \n",
       "16496                   The Smurfs      3DS   0.0        Action   \n",
       "\n",
       "                                    Publisher  NA_Sales  EU_Sales  JP_Sales  \\\n",
       "Rank                                                                          \n",
       "180                           Electronic Arts      4.26      0.26      0.01   \n",
       "378                           Electronic Arts      0.59      2.36      0.04   \n",
       "432    Warner Bros. Interactive Entertainment      1.86      1.02      0.00   \n",
       "471                                         0      1.57      1.02      0.00   \n",
       "608                                     Atari      2.36      0.14      0.00   \n",
       "...                                       ...       ...       ...       ...   \n",
       "16310                                 Unknown      0.01      0.00      0.00   \n",
       "16330                      Namco Bandai Games      0.01      0.00      0.00   \n",
       "16369                                 Unknown      0.01      0.00      0.00   \n",
       "16430                                 Unknown      0.01      0.00      0.00   \n",
       "16496                                 Unknown      0.00      0.01      0.00   \n",
       "\n",
       "       Other_Sales  Global_Sales  \n",
       "Rank                              \n",
       "180           0.71          5.23  \n",
       "378           0.51          3.49  \n",
       "432           0.29          3.17  \n",
       "471           0.41          3.00  \n",
       "608           0.03          2.53  \n",
       "...            ...           ...  \n",
       "16310         0.00          0.01  \n",
       "16330         0.00          0.01  \n",
       "16369         0.00          0.01  \n",
       "16430         0.00          0.01  \n",
       "16496         0.00          0.01  \n",
       "\n",
       "[271 rows x 10 columns]"
      ]
     },
     "execution_count": 108,
     "metadata": {},
     "output_type": "execute_result"
    }
   ],
   "source": [
    "Cond_0=(Source_File1['Year'] ==0)\n",
    "Source_File_0=Source_File1.loc[Cond_0]\n",
    "Source_File_0"
   ]
  },
  {
   "cell_type": "markdown",
   "id": "205901ce",
   "metadata": {},
   "source": [
    "## FInding the 4 Most Popular Platform in Unknown Years"
   ]
  },
  {
   "cell_type": "code",
   "execution_count": 109,
   "id": "a1cad07a",
   "metadata": {},
   "outputs": [
    {
     "data": {
      "text/plain": [
       "{'Wii': 35, 'PS2': 34, 'X360': 30, 'DS': 30}"
      ]
     },
     "execution_count": 109,
     "metadata": {},
     "output_type": "execute_result"
    }
   ],
   "source": [
    "Platform_dict0 =dict(Counter(Source_File_0['Platform']).most_common(4))\n",
    "Platform_dict0"
   ]
  },
  {
   "cell_type": "code",
   "execution_count": 110,
   "id": "bce422d6",
   "metadata": {},
   "outputs": [
    {
     "data": {
      "image/png": "[encoded data removed]",
      "text/plain": [
       "<Figure size 432x288 with 1 Axes>"
      ]
     },
     "metadata": {},
     "output_type": "display_data"
    }
   ],
   "source": [
    "# Specifying X and Y Values - X-axis(Keys), Y-axis(Values)\n",
    "plt.bar(Platform_dict0.keys(), Platform_dict0.values(), color='Yellow')\n",
    "\n",
    "#Providing Legends and Titles\n",
    "plt.title('Bar Graph of Platform Against Popularity')\n",
    "plt.ylabel('Popularity')\n",
    "plt.xlabel('Platform')\n",
    "\n",
    "#Preventing X-labels Overlap\n",
    "plt.xticks(rotation=290)\n",
    "\n",
    "#Preventing Extra_Information\n",
    "plt.show()"
   ]
  },
  {
   "cell_type": "code",
   "execution_count": null,
   "id": "9b93a810",
   "metadata": {},
   "outputs": [],
   "source": []
  },
  {
   "cell_type": "markdown",
   "id": "47d5c314",
   "metadata": {},
   "source": [
    "## Highest Average_Global_Sales(Platform)"
   ]
  },
  {
   "cell_type": "code",
   "execution_count": 111,
   "id": "ec25adea",
   "metadata": {},
   "outputs": [
    {
     "data": {
      "text/plain": [
       "{'GB': 1.03,\n",
       " 'PS2': 0.6523529411764706,\n",
       " 2600: 0.618235294117647,\n",
       " 'Wii': 0.4828571428571428,\n",
       " 'PS': 0.46714285714285714}"
      ]
     },
     "execution_count": 111,
     "metadata": {},
     "output_type": "execute_result"
    }
   ],
   "source": [
    "Platform_grp0=Source_File_0.groupby(['Platform'])\n",
    "Platform_Average_Global0=(dict(Platform_grp0['Global_Sales'].mean().nlargest(5)))\n",
    "Platform_Average_Global0"
   ]
  },
  {
   "cell_type": "code",
   "execution_count": 112,
   "id": "6470c35d",
   "metadata": {},
   "outputs": [
    {
     "data": {
      "image/png": "[encoded data removed]",
      "text/plain": [
       "<Figure size 504x504 with 1 Axes>"
      ]
     },
     "metadata": {},
     "output_type": "display_data"
    }
   ],
   "source": [
    "#Specifying the Figure Size\n",
    "plt.figure(figsize=(7,7))\n",
    "\n",
    "#Introducing the Pie Chart, autopct enables percentages on the diagram, 1f meands to 1 decimal place\n",
    "plt.pie(Platform_Average_Global0.values(), labels=Platform_Average_Global0.keys(), autopct=('%1.1f%%'))\n",
    "\n",
    "plt.axis('equal')\n",
    "plt.show()"
   ]
  },
  {
   "cell_type": "code",
   "execution_count": null,
   "id": "a9071807",
   "metadata": {},
   "outputs": [],
   "source": []
  },
  {
   "cell_type": "markdown",
   "id": "77e0a369",
   "metadata": {},
   "source": [
    "## FInding the 4 Most Popular Publisher in Unknown Years"
   ]
  },
  {
   "cell_type": "code",
   "execution_count": 113,
   "id": "ba4f7491",
   "metadata": {},
   "outputs": [
    {
     "data": {
      "text/plain": [
       "{'Unknown': 103,\n",
       " 0: 22,\n",
       " 'Atari': 16,\n",
       " 'Warner Bros. Interactive Entertainment': 15}"
      ]
     },
     "execution_count": 113,
     "metadata": {},
     "output_type": "execute_result"
    }
   ],
   "source": [
    "Publisher_dict0 =dict(Counter(Source_File_0['Publisher']).most_common(4))\n",
    "Publisher_dict0"
   ]
  },
  {
   "cell_type": "markdown",
   "id": "43f6aa63",
   "metadata": {},
   "source": [
    "## Highest Average_Global_Sales(Publisher)"
   ]
  },
  {
   "cell_type": "code",
   "execution_count": 115,
   "id": "51cb7d2c",
   "metadata": {},
   "outputs": [
    {
     "data": {
      "text/plain": [
       "{'LucasArts': 2.39,\n",
       " 'MTV Games': 2.11,\n",
       " 'Electronic Arts': 1.4108333333333334,\n",
       " 'Eidos Interactive': 1.115,\n",
       " 'Warner Bros. Interactive Entertainment': 0.77}"
      ]
     },
     "execution_count": 115,
     "metadata": {},
     "output_type": "execute_result"
    }
   ],
   "source": [
    "Publisher_grp0=Source_File_0.groupby(['Publisher'])\n",
    "Publisher_Average_Global0=(dict(Publisher_grp0['Global_Sales'].mean().nlargest(5)))\n",
    "Publisher_Average_Global0"
   ]
  },
  {
   "cell_type": "code",
   "execution_count": 116,
   "id": "617c0611",
   "metadata": {},
   "outputs": [
    {
     "data": {
      "image/png": "[encoded data removed]",
      "text/plain": [
       "<Figure size 504x504 with 1 Axes>"
      ]
     },
     "metadata": {},
     "output_type": "display_data"
    }
   ],
   "source": [
    "#Specifying the Figure Size\n",
    "plt.figure(figsize=(7,7))\n",
    "\n",
    "#Introducing the Pie Chart, autopct enables percentages on the diagram, 1f meands to 1 decimal place\n",
    "plt.pie(Publisher_Average_Global0.values(), labels=Publisher_Average_Global0.keys(), autopct=('%1.1f%%'))\n",
    "\n",
    "plt.axis('equal')\n",
    "plt.show()"
   ]
  },
  {
   "cell_type": "code",
   "execution_count": null,
   "id": "04f2fd32",
   "metadata": {},
   "outputs": [],
   "source": []
  },
  {
   "cell_type": "code",
   "execution_count": null,
   "id": "cd6c1401",
   "metadata": {},
   "outputs": [],
   "source": []
  },
  {
   "cell_type": "markdown",
   "id": "76cc2361",
   "metadata": {},
   "source": [
    "## FInding the 4 Most Popular Genre in Unknown Years"
   ]
  },
  {
   "cell_type": "code",
   "execution_count": 117,
   "id": "e7f29f03",
   "metadata": {},
   "outputs": [
    {
     "data": {
      "text/plain": [
       "{'Action': 63, 'Sports': 42, 'Misc': 29, 'Shooter': 28}"
      ]
     },
     "execution_count": 117,
     "metadata": {},
     "output_type": "execute_result"
    }
   ],
   "source": [
    "Genre_dict0 =dict(Counter(Source_File_0['Genre']).most_common(4))\n",
    "Genre_dict0"
   ]
  },
  {
   "cell_type": "code",
   "execution_count": 118,
   "id": "7be43e8f",
   "metadata": {},
   "outputs": [
    {
     "data": {
      "image/png": "[encoded data removed]",
      "text/plain": [
       "<Figure size 432x288 with 1 Axes>"
      ]
     },
     "metadata": {},
     "output_type": "display_data"
    }
   ],
   "source": [
    "# Specifying X and Y Values - X-axis(Keys), Y-axis(Values)\n",
    "plt.bar(Genre_dict0.keys(), Genre_dict0.values(), color='Red')\n",
    "\n",
    "#Providing Legends and Titles\n",
    "plt.title('Bar Graph of Genre Against Popularity')\n",
    "plt.ylabel('Popularity')\n",
    "plt.xlabel('Genre')\n",
    "\n",
    "#Preventing X-labels Overlap\n",
    "plt.xticks(rotation=290)\n",
    "\n",
    "#Preventing Extra_Information\n",
    "plt.show()"
   ]
  },
  {
   "cell_type": "markdown",
   "id": "044bbfc4",
   "metadata": {},
   "source": [
    "## Highest Average_Global_Sales(Genre)"
   ]
  },
  {
   "cell_type": "code",
   "execution_count": 119,
   "id": "2aee7895",
   "metadata": {},
   "outputs": [
    {
     "data": {
      "text/plain": [
       "{'Sports': 0.5164285714285715,\n",
       " 'Action': 0.4492063492063492,\n",
       " 'Misc': 0.42551724137931035,\n",
       " 'Adventure': 0.42400000000000004,\n",
       " 'Fighting': 0.405}"
      ]
     },
     "execution_count": 119,
     "metadata": {},
     "output_type": "execute_result"
    }
   ],
   "source": [
    "Genre_grp0=Source_File_0.groupby(['Genre'])\n",
    "Genre_Average_Global0=(dict(Genre_grp0['Global_Sales'].mean().nlargest(5)))\n",
    "Genre_Average_Global0"
   ]
  },
  {
   "cell_type": "code",
   "execution_count": 120,
   "id": "6281ff94",
   "metadata": {},
   "outputs": [
    {
     "data": {
      "image/png": "[encoded data removed]",
      "text/plain": [
       "<Figure size 504x504 with 1 Axes>"
      ]
     },
     "metadata": {},
     "output_type": "display_data"
    }
   ],
   "source": [
    "#Specifying the Figure Size\n",
    "plt.figure(figsize=(7,7))\n",
    "\n",
    "#Introducing the Pie Chart, autopct enables percentages on the diagram, 1f meands to 1 decimal place\n",
    "plt.pie(Genre_Average_Global0.values(), labels=Genre_Average_Global0.keys(), autopct=('%1.1f%%'))\n",
    "\n",
    "plt.axis('equal')\n",
    "plt.show()"
   ]
  }
 ],
 "metadata": {
  "kernelspec": {
   "display_name": "Python 3 (ipykernel)",
   "language": "python",
   "name": "python3"
  },
  "language_info": {
   "codemirror_mode": {
    "name": "ipython",
    "version": 3
   },
   "file_extension": ".py",
   "mimetype": "text/x-python",
   "name": "python",
   "nbconvert_exporter": "python",
   "pygments_lexer": "ipython3",
   "version": "3.9.7"
  }
 },
 "nbformat": 4,
 "nbformat_minor": 5
}
